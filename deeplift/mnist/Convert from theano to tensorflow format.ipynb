{
 "cells": [
  {
   "cell_type": "code",
   "execution_count": 1,
   "metadata": {
    "collapsed": false
   },
   "outputs": [
    {
     "name": "stderr",
     "output_type": "stream",
     "text": [
      "Using TensorFlow backend.\n"
     ]
    }
   ],
   "source": [
    "import keras\n",
    "model_original = keras.models.load_model(\"mnist_cnn_allconv.h5\")"
   ]
  },
  {
   "cell_type": "code",
   "execution_count": 9,
   "metadata": {
    "collapsed": false
   },
   "outputs": [],
   "source": [
    "import keras\n",
    "from keras.datasets import mnist\n",
    "from keras.models import Sequential\n",
    "from keras.layers import Dense, Dropout, Activation, Flatten\n",
    "from keras.layers import Convolution2D, MaxPooling2D, AveragePooling2D\n",
    "from keras.utils import np_utils\n",
    "from keras import backend as K\n",
    "\n",
    "batch_size = 128\n",
    "nb_classes = 10\n",
    "nb_epoch = 12\n",
    "\n",
    "# input image dimensions\n",
    "img_rows, img_cols = 28, 28\n",
    "# number of convolutional filters to use\n",
    "nb_filters = 32\n",
    "# size of pooling area for max pooling\n",
    "pool_size = (2, 2)\n",
    "# convolution kernel size\n",
    "kernel_size = (4, 4)\n",
    "\n",
    "input_shape = (28, 28, 1)\n",
    "\n",
    "model = Sequential()\n",
    "\n",
    "model.add(Convolution2D(32, kernel_size[0], kernel_size[1],\n",
    "                        border_mode='valid',\n",
    "                        input_shape=input_shape,\n",
    "                        subsample=pool_size))\n",
    "model.add(Activation('relu'))\n",
    "model.add(Convolution2D(64, kernel_size[0], kernel_size[1],\n",
    "                        border_mode='valid', subsample=pool_size))\n",
    "model.add(Activation('relu'))\n",
    "model.add(Dropout(0.25))\n",
    "\n",
    "model.add(Flatten())\n",
    "model.add(Dense(128))\n",
    "model.add(Activation('relu'))\n",
    "model.add(Dropout(0.5))\n",
    "model.add(Dense(nb_classes))\n",
    "model.add(Activation('softmax'))\n",
    "\n",
    "model.compile(loss='categorical_crossentropy',\n",
    "              optimizer='adam',\n",
    "              metrics=['accuracy'])"
   ]
  },
  {
   "cell_type": "code",
   "execution_count": 27,
   "metadata": {
    "collapsed": false
   },
   "outputs": [
    {
     "name": "stdout",
     "output_type": "stream",
     "text": [
      "____________________________________________________________________________________________________\n",
      "Layer (type)                     Output Shape          Param #     Connected to                     \n",
      "====================================================================================================\n",
      "convolution2d_1 (Convolution2D)  (None, 13, 13, 32)    544         convolution2d_input_3[0][0]      \n",
      "____________________________________________________________________________________________________\n",
      "activation_1 (Activation)        (None, 13, 13, 32)    0           convolution2d_1[0][0]            \n",
      "____________________________________________________________________________________________________\n",
      "convolution2d_2 (Convolution2D)  (None, 5, 5, 64)      32832       activation_1[0][0]               \n",
      "____________________________________________________________________________________________________\n",
      "activation_2 (Activation)        (None, 5, 5, 64)      0           convolution2d_2[0][0]            \n",
      "____________________________________________________________________________________________________\n",
      "dropout_1 (Dropout)              (None, 5, 5, 64)      0           activation_2[0][0]               \n",
      "____________________________________________________________________________________________________\n",
      "flatten_1 (Flatten)              (None, 1600)          0           dropout_1[0][0]                  \n",
      "____________________________________________________________________________________________________\n",
      "dense_1 (Dense)                  (None, 128)           204928      flatten_1[0][0]                  \n",
      "____________________________________________________________________________________________________\n",
      "activation_3 (Activation)        (None, 128)           0           dense_1[0][0]                    \n",
      "____________________________________________________________________________________________________\n",
      "dropout_2 (Dropout)              (None, 128)           0           activation_3[0][0]               \n",
      "____________________________________________________________________________________________________\n",
      "dense_2 (Dense)                  (None, 10)            1290        dropout_2[0][0]                  \n",
      "____________________________________________________________________________________________________\n",
      "activation_4 (Activation)        (None, 10)            0           dense_2[0][0]                    \n",
      "====================================================================================================\n",
      "Total params: 239,594\n",
      "Trainable params: 239,594\n",
      "Non-trainable params: 0\n",
      "____________________________________________________________________________________________________\n"
     ]
    }
   ],
   "source": [
    "model.summary()"
   ]
  },
  {
   "cell_type": "code",
   "execution_count": 35,
   "metadata": {
    "collapsed": false
   },
   "outputs": [],
   "source": [
    "from keras import backend as K\n",
    "from keras.utils.np_utils import convert_kernel\n",
    "import tensorflow as tf\n",
    "import numpy as np\n",
    "ops = []\n",
    "#convert the conv layers\n",
    "for old_layer, new_layer in zip(model_original.layers, model.layers):\n",
    "    if old_layer.__class__.__name__ in ['Convolution2D', 'Convolution1D']:\n",
    "        original_w, original_b = old_layer.get_weights()\n",
    "        #transpose it; it's currently in outchan,inchan,rows,cols\n",
    "        #make it rows,cols,inchan,outchan\n",
    "        transposed_w = np.transpose(original_w[:,:,::-1,::-1], (2,3,1,0))\n",
    "        new_layer.set_weights([transposed_w, original_b])"
   ]
  },
  {
   "cell_type": "code",
   "execution_count": 91,
   "metadata": {
    "collapsed": false
   },
   "outputs": [
    {
     "name": "stdout",
     "output_type": "stream",
     "text": [
      "(1600, 128)\n"
     ]
    }
   ],
   "source": [
    "#convert the dense layer\n",
    "dense_w, dense_b = model_original.layers[6].get_weights()\n",
    "print(dense_w.shape)\n",
    "reshaped_dense_w = np.reshape(dense_w, (64,5,5,128))\n",
    "axes_swapped_dense_w = np.transpose(reshaped_dense_w,(1,2,0,3))\n",
    "new_dense_w = np.reshape(axes_swapped_dense_w, (1600,128))\n",
    "model.layers[6].set_weights([new_dense_w, dense_b])\n",
    "\n",
    "#second-to-last dense layer just has regular weights\n",
    "model.layers[9].set_weights(model_original.layers[9].get_weights())"
   ]
  },
  {
   "cell_type": "code",
   "execution_count": 92,
   "metadata": {
    "collapsed": true
   },
   "outputs": [],
   "source": [
    "model.save('mnist_cnn_allconv_tensorflow.h5')"
   ]
  },
  {
   "cell_type": "code",
   "execution_count": 93,
   "metadata": {
    "collapsed": false,
    "scrolled": false
   },
   "outputs": [
    {
     "name": "stdout",
     "output_type": "stream",
     "text": [
      "[[ 0.04705426  0.03339526  0.0796259   0.17400834  0.01364966  0.04841387\n",
      "   0.02714486  0.01118005  0.53199524  0.03353257]]\n",
      "-5.71005\n",
      "[[-0.60911679 -0.95200425 -0.08307897  0.69868487 -1.84670365 -0.58063215\n",
      "  -1.15923071 -2.04628801  1.81621611 -0.94790119]]\n"
     ]
    }
   ],
   "source": [
    "np.random.seed(1234)\n",
    "vals = np.random.random((1,28,28,1))\n",
    "print(model.predict([vals]))\n",
    "from keras.models import Model\n",
    "layer_model = Model(input=model.input, output=model.layers[9].output)\n",
    "print(np.sum(layer_model.predict([vals])))\n",
    "print(layer_model.predict([vals]))"
   ]
  },
  {
   "cell_type": "code",
   "execution_count": null,
   "metadata": {
    "collapsed": true
   },
   "outputs": [],
   "source": []
  }
 ],
 "metadata": {
  "kernelspec": {
   "display_name": "Python 2",
   "language": "python",
   "name": "python2"
  },
  "language_info": {
   "codemirror_mode": {
    "name": "ipython",
    "version": 2
   },
   "file_extension": ".py",
   "mimetype": "text/x-python",
   "name": "python",
   "nbconvert_exporter": "python",
   "pygments_lexer": "ipython2",
   "version": "2.7.11"
  }
 },
 "nbformat": 4,
 "nbformat_minor": 0
}
