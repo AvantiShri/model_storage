{
 "cells": [
  {
   "cell_type": "code",
   "execution_count": 2,
   "metadata": {
    "collapsed": false
   },
   "outputs": [],
   "source": [
    "import keras\n",
    "from keras.models import model_from_json\n",
    "model_original = model_from_json(open(\"record_5_model_PQzyq_modelJson.json\").read())\n",
    "model_original.load_weights(\"record_5_model_PQzyq_modelWeights.h5\")"
   ]
  },
  {
   "cell_type": "code",
   "execution_count": 3,
   "metadata": {
    "collapsed": false
   },
   "outputs": [],
   "source": [
    "model = model_from_json(open(\"tf_order_record_5_model_PQzyq_modelJson.json\").read())"
   ]
  },
  {
   "cell_type": "code",
   "execution_count": 4,
   "metadata": {
    "collapsed": false
   },
   "outputs": [
    {
     "name": "stdout",
     "output_type": "stream",
     "text": [
      "____________________________________________________________________________________________________\n",
      "Layer (type)                     Output Shape          Param #     Connected to                     \n",
      "====================================================================================================\n",
      "convolution2d_1 (Convolution2D)  (None, 1, 190, 50)    2250        convolution2d_input_2[0][0]      \n",
      "____________________________________________________________________________________________________\n",
      "activation_1 (Activation)        (None, 1, 190, 50)    0           convolution2d_1[0][0]            \n",
      "____________________________________________________________________________________________________\n",
      "convolution2d_2 (Convolution2D)  (None, 1, 180, 50)    27550       activation_1[0][0]               \n",
      "____________________________________________________________________________________________________\n",
      "activation_2 (Activation)        (None, 1, 180, 50)    0           convolution2d_2[0][0]            \n",
      "____________________________________________________________________________________________________\n",
      "averagepooling2d_1 (AveragePooli (None, 1, 1, 50)      0           activation_2[0][0]               \n",
      "____________________________________________________________________________________________________\n",
      "flatten_1 (Flatten)              (None, 50)            0           averagepooling2d_1[0][0]         \n",
      "____________________________________________________________________________________________________\n",
      "dense_1 (Dense)                  (None, 50)            2550        flatten_1[0][0]                  \n",
      "____________________________________________________________________________________________________\n",
      "activation_3 (Activation)        (None, 50)            0           dense_1[0][0]                    \n",
      "____________________________________________________________________________________________________\n",
      "dropout_1 (Dropout)              (None, 50)            0           activation_3[0][0]               \n",
      "____________________________________________________________________________________________________\n",
      "dense_2 (Dense)                  (None, 3)             153         dropout_1[0][0]                  \n",
      "____________________________________________________________________________________________________\n",
      "activation_4 (Activation)        (None, 3)             0           dense_2[0][0]                    \n",
      "====================================================================================================\n",
      "Total params: 32,503\n",
      "Trainable params: 32,503\n",
      "Non-trainable params: 0\n",
      "____________________________________________________________________________________________________\n"
     ]
    }
   ],
   "source": [
    "model.summary()"
   ]
  },
  {
   "cell_type": "code",
   "execution_count": 5,
   "metadata": {
    "collapsed": false
   },
   "outputs": [],
   "source": [
    "from keras import backend as K\n",
    "from keras.utils.np_utils import convert_kernel\n",
    "import tensorflow as tf\n",
    "import numpy as np\n",
    "ops = []\n",
    "#convert the conv layers\n",
    "for old_layer, new_layer in zip(model_original.layers, model.layers):\n",
    "    if old_layer.__class__.__name__ in ['Convolution2D', 'Convolution1D']:\n",
    "        original_w, original_b = old_layer.get_weights()\n",
    "        #transpose it; it's currently in outchan,inchan,rows,cols\n",
    "        #make it rows,cols,inchan,outchan\n",
    "        transposed_w = np.transpose(original_w[:,:,::-1,::-1], (2,3,1,0))\n",
    "        new_layer.set_weights([transposed_w, original_b])"
   ]
  },
  {
   "cell_type": "code",
   "execution_count": 6,
   "metadata": {
    "collapsed": false
   },
   "outputs": [
    {
     "name": "stdout",
     "output_type": "stream",
     "text": [
      "(50, 50)\n"
     ]
    }
   ],
   "source": [
    "#convert the dense layer\n",
    "dense_w, dense_b = model_original.layers[6].get_weights()\n",
    "print(dense_w.shape)\n",
    "reshaped_dense_w = np.reshape(dense_w, (50,1,1,50))\n",
    "axes_swapped_dense_w = np.transpose(reshaped_dense_w,(1,2,0,3))\n",
    "new_dense_w = np.reshape(axes_swapped_dense_w, (50,50))\n",
    "model.layers[6].set_weights([new_dense_w, dense_b])\n",
    "\n",
    "#second-to-last dense layer just has regular weights\n",
    "model.layers[9].set_weights(model_original.layers[9].get_weights())"
   ]
  },
  {
   "cell_type": "code",
   "execution_count": 7,
   "metadata": {
    "collapsed": true
   },
   "outputs": [],
   "source": [
    "model.save('tf_order_record_5_model_PQzyq_modelWeights.h5')"
   ]
  },
  {
   "cell_type": "code",
   "execution_count": 9,
   "metadata": {
    "collapsed": false,
    "scrolled": false
   },
   "outputs": [
    {
     "name": "stdout",
     "output_type": "stream",
     "text": [
      "[[ 0.19056688  0.39294827  0.29661816]]\n",
      "-2.74472\n",
      "[[-1.4463309  -0.43493608 -0.86345422]]\n"
     ]
    }
   ],
   "source": [
    "np.random.seed(1234)\n",
    "vals = np.random.random((1,4,200,1))\n",
    "print(model.predict([vals]))\n",
    "from keras.models import Model\n",
    "layer_model = Model(input=model.input, output=model.layers[9].output)\n",
    "print(np.sum(layer_model.predict([vals])))\n",
    "print(layer_model.predict([vals]))"
   ]
  },
  {
   "cell_type": "code",
   "execution_count": null,
   "metadata": {
    "collapsed": true
   },
   "outputs": [],
   "source": []
  }
 ],
 "metadata": {
  "kernelspec": {
   "display_name": "Python 2",
   "language": "python",
   "name": "python2"
  },
  "language_info": {
   "codemirror_mode": {
    "name": "ipython",
    "version": 2
   },
   "file_extension": ".py",
   "mimetype": "text/x-python",
   "name": "python",
   "nbconvert_exporter": "python",
   "pygments_lexer": "ipython2",
   "version": "2.7.11"
  }
 },
 "nbformat": 4,
 "nbformat_minor": 0
}
