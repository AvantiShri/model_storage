{
 "cells": [
  {
   "cell_type": "code",
   "execution_count": 21,
   "metadata": {
    "collapsed": false
   },
   "outputs": [],
   "source": [
    "import keras\n",
    "from keras.models import model_from_json\n",
    "model_original = model_from_json(open(\"tf_order_record_5_model_PQzyq_modelJson.json\").read())\n",
    "model_original.load_weights(\"tf_order_record_5_model_PQzyq_modelWeights.h5\")"
   ]
  },
  {
   "cell_type": "code",
   "execution_count": 22,
   "metadata": {
    "collapsed": true
   },
   "outputs": [],
   "source": [
    "import numpy as np\n",
    "np.random.seed(1234)\n",
    "rand_vals = np.random.random((1,4,200,1)) #shape of input\n",
    "#let's one-hot encode it\n",
    "max_per_column = np.max(rand_vals,axis=1)\n",
    "rand_one_hot = (rand_vals==max_per_column[:,None,:,:])*1.0"
   ]
  },
  {
   "cell_type": "code",
   "execution_count": 23,
   "metadata": {
    "collapsed": false
   },
   "outputs": [
    {
     "data": {
      "text/plain": [
       "array([[  2.65854978e-05,   1.70970373e-02,   1.53195544e-03]], dtype=float32)"
      ]
     },
     "execution_count": 23,
     "metadata": {},
     "output_type": "execute_result"
    }
   ],
   "source": [
    "model_original.predict(rand_one_hot)"
   ]
  },
  {
   "cell_type": "code",
   "execution_count": 24,
   "metadata": {
    "collapsed": false
   },
   "outputs": [
    {
     "name": "stdout",
     "output_type": "stream",
     "text": [
      "Normalising weights for one-hot encoded sequence convolution\n",
      "axis of normalisation is: 0\n",
      "Weight shape on that axis is: 4\n",
      "Tensorflow dimension ordering; output channel axis is last one which has a length of 50\n"
     ]
    }
   ],
   "source": [
    "from deeplift.conversion import keras_conversion as kc\n",
    "normalised_model = kc.load_keras_model(\n",
    "                                weights=\"tf_order_record_5_model_PQzyq_modelWeights.h5\",\n",
    "                                json=\"tf_order_record_5_model_PQzyq_modelJson.json\",\n",
    "                                normalise_conv_for_one_hot_encoded_input=True,\n",
    "                                axis_of_normalisation=0)"
   ]
  },
  {
   "cell_type": "code",
   "execution_count": 25,
   "metadata": {
    "collapsed": false
   },
   "outputs": [
    {
     "data": {
      "text/plain": [
       "array([[  2.65855469e-05,   1.70970615e-02,   1.53195544e-03]], dtype=float32)"
      ]
     },
     "execution_count": 25,
     "metadata": {},
     "output_type": "execute_result"
    }
   ],
   "source": [
    "#verify prediction the same\n",
    "normalised_model.predict(rand_one_hot)"
   ]
  },
  {
   "cell_type": "code",
   "execution_count": 26,
   "metadata": {
    "collapsed": false
   },
   "outputs": [
    {
     "name": "stdout",
     "output_type": "stream",
     "text": [
      "(4, 11, 1, 50)\n",
      "9.31323e-09\n"
     ]
    }
   ],
   "source": [
    "w,b = normalised_model.layers[0].get_weights()\n",
    "print(w.shape)\n",
    "print(np.max(np.mean(w, axis=0))) #verify mean norm"
   ]
  },
  {
   "cell_type": "code",
   "execution_count": null,
   "metadata": {
    "collapsed": true
   },
   "outputs": [],
   "source": []
  }
 ],
 "metadata": {
  "kernelspec": {
   "display_name": "Python 2",
   "language": "python",
   "name": "python2"
  },
  "language_info": {
   "codemirror_mode": {
    "name": "ipython",
    "version": 2
   },
   "file_extension": ".py",
   "mimetype": "text/x-python",
   "name": "python",
   "nbconvert_exporter": "python",
   "pygments_lexer": "ipython2",
   "version": "2.7.11"
  }
 },
 "nbformat": 4,
 "nbformat_minor": 0
}
